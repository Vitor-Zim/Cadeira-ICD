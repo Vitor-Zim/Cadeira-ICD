{
 "cells": [
  {
   "cell_type": "markdown",
   "metadata": {},
   "source": [
    "# Introdução à Ciência de Dados - UFPB\n",
    "Professor: Yuri Malheiros\n",
    "\n",
    "## NumPy"
   ]
  },
  {
   "cell_type": "markdown",
   "metadata": {},
   "source": [
    "Implemente a função `distance` abaixo. Ela deve receber dois pontos e retornar a distância euclidiana entre eles. Cada ponto é representado por um array do NumPy, por exemplo, `p1 = np.array([2,4])` representa o ponto com coordenadas x=2 e y=2."
   ]
  },
  {
   "cell_type": "code",
   "execution_count": 9,
   "metadata": {},
   "outputs": [
    {
     "data": {
      "text/plain": [
       "7.615773105863909"
      ]
     },
     "execution_count": 9,
     "metadata": {},
     "output_type": "execute_result"
    }
   ],
   "source": [
    "import numpy as np\n",
    "\n",
    "def distance(p1, p2):\n",
    "    \"\"\"\n",
    "    >>> distance(np.array([0,0]), np.array([1,1]))\n",
    "    1.4142135623730951\n",
    "    \n",
    "    >>> distance(np.array([1,2]), np.array([3,4]))\n",
    "    2.8284271247461903\n",
    "    \n",
    "    >>> distance(np.array([5,2]), np.array([-2,-1]))\n",
    "    7.615773105863909\n",
    "    \"\"\"\n",
    "    \n",
    "    # ADICIONE O SEU CÓDIGO AQUI\n",
    "    return np.sqrt(np.sum((p1-p2)**2))\n",
    "\n",
    "distance(np.array([5,2]), np.array([-2,-1]))"
   ]
  },
  {
   "cell_type": "markdown",
   "metadata": {},
   "source": [
    "Implemente a função `n_distances` abaixo. Ela recebe um ponto (`p1`), como um array do NumPy, e uma lista de pontos (`points`), uma matriz do NumPy, onde cada linha representa um ponto.\n",
    "\n",
    "Esta função deve retornar a distância de `p1` para todos os pontos da matriz `points`. O retorno também é uma matriz, onde cada linha tem a distância de `p1` para o ponto daquela linha."
   ]
  },
  {
   "cell_type": "code",
   "execution_count": 24,
   "metadata": {},
   "outputs": [
    {
     "ename": "TypeError",
     "evalue": "data type not understood",
     "output_type": "error",
     "traceback": [
      "\u001b[1;31m---------------------------------------------------------------------------\u001b[0m",
      "\u001b[1;31mTypeError\u001b[0m                                 Traceback (most recent call last)",
      "\u001b[1;32m<ipython-input-24-bfe4ab3e4879>\u001b[0m in \u001b[0;36m<module>\u001b[1;34m\u001b[0m\n\u001b[0;32m     18\u001b[0m     \u001b[1;32mreturn\u001b[0m \u001b[0mlista\u001b[0m\u001b[1;33m\u001b[0m\u001b[1;33m\u001b[0m\u001b[0m\n\u001b[0;32m     19\u001b[0m \u001b[1;33m\u001b[0m\u001b[0m\n\u001b[1;32m---> 20\u001b[1;33m \u001b[0mn_distances\u001b[0m\u001b[1;33m(\u001b[0m\u001b[0mnp\u001b[0m\u001b[1;33m.\u001b[0m\u001b[0marray\u001b[0m\u001b[1;33m(\u001b[0m\u001b[1;33m[\u001b[0m\u001b[1;36m0\u001b[0m\u001b[1;33m,\u001b[0m\u001b[1;36m0\u001b[0m\u001b[1;33m]\u001b[0m\u001b[1;33m)\u001b[0m\u001b[1;33m,\u001b[0m \u001b[0mnp\u001b[0m\u001b[1;33m.\u001b[0m\u001b[0marray\u001b[0m\u001b[1;33m(\u001b[0m\u001b[1;33m[\u001b[0m\u001b[1;36m1\u001b[0m\u001b[1;33m,\u001b[0m\u001b[1;36m1\u001b[0m\u001b[1;33m]\u001b[0m\u001b[1;33m,\u001b[0m \u001b[1;33m[\u001b[0m\u001b[1;36m2\u001b[0m\u001b[1;33m,\u001b[0m\u001b[1;36m2\u001b[0m\u001b[1;33m]\u001b[0m\u001b[1;33m)\u001b[0m\u001b[1;33m)\u001b[0m\u001b[1;33m\u001b[0m\u001b[1;33m\u001b[0m\u001b[0m\n\u001b[0m",
      "\u001b[1;31mTypeError\u001b[0m: data type not understood"
     ]
    }
   ],
   "source": [
    "def n_distances(p1, points):\n",
    "    \"\"\"\n",
    "    >>> n_distances(np.array([0,0]), np.array([[1,1]]))\n",
    "    array([1.41421356])\n",
    "    \n",
    "    >>> n_distances(np.array([0,0]), np.array([[1,1], [2,2]]))\n",
    "    array([1.41421356, 2.82842712])\n",
    "    \n",
    "    >>> n_distances(np.array([1,2]), np.array([[3,-1], [2,1], [5, 2], [10, 1], [-2, -5]]))\n",
    "    array([3.60555128, 1.41421356, 4.        , 9.05538514, 7.61577311])\n",
    "    \"\"\"\n",
    "    \n",
    "    # ADICIONE O SEU CÓDIGO AQUI\n",
    "    \n",
    "    s = points\n",
    "    p = p1\n",
    "    lista = [np.sqrt((p[0]-s0)**2 + (p[1]-s1)**2) for s0, s1 in s]\n",
    "    return lista\n",
    "\n",
    "n_distances(np.array([0,0]), np.array([1,1], [2,2]))"
   ]
  },
  {
   "cell_type": "markdown",
   "metadata": {},
   "source": [
    "## Teste"
   ]
  },
  {
   "cell_type": "code",
   "execution_count": 17,
   "metadata": {},
   "outputs": [
    {
     "name": "stdout",
     "output_type": "stream",
     "text": [
      "Trying:\n",
      "    distance(np.array([0,0]), np.array([1,1]))\n",
      "Expecting:\n",
      "    1.4142135623730951\n",
      "ok\n",
      "Trying:\n",
      "    distance(np.array([1,2]), np.array([3,4]))\n",
      "Expecting:\n",
      "    2.8284271247461903\n",
      "ok\n",
      "Trying:\n",
      "    distance(np.array([5,2]), np.array([-2,-1]))\n",
      "Expecting:\n",
      "    7.615773105863909\n",
      "ok\n",
      "Trying:\n",
      "    n_distances(np.array([0,0]), np.array([[1,1]]))\n",
      "Expecting:\n",
      "    array([1.41421356])\n",
      "**********************************************************************\n",
      "File \"__main__\", line 3, in __main__.n_distances\n",
      "Failed example:\n",
      "    n_distances(np.array([0,0]), np.array([[1,1]]))\n",
      "Expected:\n",
      "    array([1.41421356])\n",
      "Got:\n",
      "    array([[1., 1.]])\n",
      "Trying:\n",
      "    n_distances(np.array([0,0]), np.array([[1,1], [2,2]]))\n",
      "Expecting:\n",
      "    array([1.41421356, 2.82842712])\n",
      "**********************************************************************\n",
      "File \"__main__\", line 6, in __main__.n_distances\n",
      "Failed example:\n",
      "    n_distances(np.array([0,0]), np.array([[1,1], [2,2]]))\n",
      "Expected:\n",
      "    array([1.41421356, 2.82842712])\n",
      "Got:\n",
      "    array([[1., 1.],\n",
      "           [2., 2.]])\n",
      "Trying:\n",
      "    n_distances(np.array([1,2]), np.array([[3,-1], [2,1], [5, 2], [10, 1], [-2, -5]]))\n",
      "Expecting:\n",
      "    array([3.60555128, 1.41421356, 4.        , 9.05538514, 7.61577311])\n",
      "**********************************************************************\n",
      "File \"__main__\", line 9, in __main__.n_distances\n",
      "Failed example:\n",
      "    n_distances(np.array([1,2]), np.array([[3,-1], [2,1], [5, 2], [10, 1], [-2, -5]]))\n",
      "Expected:\n",
      "    array([3.60555128, 1.41421356, 4.        , 9.05538514, 7.61577311])\n",
      "Got:\n",
      "    array([[2., 3.],\n",
      "           [1., 1.],\n",
      "           [4., 0.],\n",
      "           [9., 1.],\n",
      "           [3., 7.]])\n",
      "1 items had no tests:\n",
      "    __main__\n",
      "1 items passed all tests:\n",
      "   3 tests in __main__.distance\n",
      "**********************************************************************\n",
      "1 items had failures:\n",
      "   3 of   3 in __main__.n_distances\n",
      "6 tests in 3 items.\n",
      "3 passed and 3 failed.\n",
      "***Test Failed*** 3 failures.\n"
     ]
    },
    {
     "data": {
      "text/plain": [
       "TestResults(failed=3, attempted=6)"
      ]
     },
     "execution_count": 17,
     "metadata": {},
     "output_type": "execute_result"
    }
   ],
   "source": [
    "import doctest\n",
    "\n",
    "doctest.testmod(verbose=True)"
   ]
  },
  {
   "cell_type": "code",
   "execution_count": null,
   "metadata": {},
   "outputs": [],
   "source": []
  }
 ],
 "metadata": {
  "kernelspec": {
   "display_name": "Python 3",
   "language": "python",
   "name": "python3"
  },
  "language_info": {
   "codemirror_mode": {
    "name": "ipython",
    "version": 3
   },
   "file_extension": ".py",
   "mimetype": "text/x-python",
   "name": "python",
   "nbconvert_exporter": "python",
   "pygments_lexer": "ipython3",
   "version": "3.7.4"
  }
 },
 "nbformat": 4,
 "nbformat_minor": 4
}
