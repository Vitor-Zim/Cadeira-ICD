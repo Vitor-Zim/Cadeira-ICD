{
 "cells": [
  {
   "cell_type": "markdown",
   "metadata": {},
   "source": [
    "# Introdução à Ciência de Dados - UFPB\n",
    "Professor: Yuri Malheiros\n",
    "\n",
    "## Medidas de Centralidade e Dispersão"
   ]
  },
  {
   "cell_type": "markdown",
   "metadata": {},
   "source": [
    "A partir do dataset `movies.csv` calcule a média, mediana e desvio padrão para as colunas:"
   ]
  },
  {
   "cell_type": "markdown",
   "metadata": {},
   "source": [
    "### US Gross"
   ]
  },
  {
   "cell_type": "code",
   "execution_count": 11,
   "metadata": {},
   "outputs": [
    {
     "name": "stdout",
     "output_type": "stream",
     "text": [
      "44002085.163744524\n",
      "22019465.5\n",
      "62555311.39066211\n"
     ]
    }
   ],
   "source": [
    "# ADICIONE O SEU CÓDIGO AQUI\n",
    "import pandas as pd\n",
    "import numpy as np\n",
    "\n",
    "movies_df = pd.read_csv(\"../icd/datasets/movies.csv\")\n",
    "\n",
    "print(movies_df['US Gross'].mean())\n",
    "print(movies_df['US Gross'].median())\n",
    "print(movies_df['US Gross'].std())"
   ]
  },
  {
   "cell_type": "markdown",
   "metadata": {},
   "source": [
    "### Production Budget"
   ]
  },
  {
   "cell_type": "code",
   "execution_count": 12,
   "metadata": {},
   "outputs": [
    {
     "name": "stdout",
     "output_type": "stream",
     "text": [
      "31069171.4484375\n",
      "20000000.0\n",
      "35585913.44464443\n"
     ]
    }
   ],
   "source": [
    "# ADICIONE O SEU CÓDIGO AQUI\n",
    "\n",
    "print(movies_df['Production Budget'].mean())\n",
    "print(movies_df['Production Budget'].median())\n",
    "print(movies_df['Production Budget'].std())"
   ]
  },
  {
   "cell_type": "markdown",
   "metadata": {},
   "source": [
    "### Running Time"
   ]
  },
  {
   "cell_type": "code",
   "execution_count": 14,
   "metadata": {},
   "outputs": [
    {
     "name": "stdout",
     "output_type": "stream",
     "text": [
      "110.19354838709677\n",
      "107.0\n",
      "20.171013677535413\n"
     ]
    }
   ],
   "source": [
    "# ADICIONE O SEU CÓDIGO AQUI\n",
    "\n",
    "print(movies_df['Running Time (min)'].mean())\n",
    "print(movies_df['Running Time (min)'].median())\n",
    "print(movies_df['Running Time (min)'].std())"
   ]
  },
  {
   "cell_type": "markdown",
   "metadata": {},
   "source": [
    "### IMDB Rating"
   ]
  },
  {
   "cell_type": "code",
   "execution_count": 15,
   "metadata": {},
   "outputs": [
    {
     "name": "stdout",
     "output_type": "stream",
     "text": [
      "6.283467202141901\n",
      "6.4\n",
      "1.2522899386004784\n"
     ]
    }
   ],
   "source": [
    "# ADICIONE O SEU CÓDIGO AQUI\n",
    "\n",
    "print(movies_df['IMDB Rating'].mean())\n",
    "print(movies_df['IMDB Rating'].median())\n",
    "print(movies_df['IMDB Rating'].std())"
   ]
  },
  {
   "cell_type": "markdown",
   "metadata": {},
   "source": [
    "### IMDB Votes"
   ]
  },
  {
   "cell_type": "code",
   "execution_count": 16,
   "metadata": {},
   "outputs": [
    {
     "name": "stdout",
     "output_type": "stream",
     "text": [
      "29908.64457831325\n",
      "15106.0\n",
      "44937.58233504963\n"
     ]
    }
   ],
   "source": [
    "# ADICIONE O SEU CÓDIGO AQUI\n",
    "\n",
    "print(movies_df['IMDB Votes'].mean())\n",
    "print(movies_df['IMDB Votes'].median())\n",
    "print(movies_df['IMDB Votes'].std())"
   ]
  },
  {
   "cell_type": "markdown",
   "metadata": {},
   "source": [
    "### Análise dos Resultados\n",
    "\n",
    "Quais colunas tiveram valores muito diferentes entre média e mediana? Quais os seus desvios padrão?"
   ]
  },
  {
   "cell_type": "markdown",
   "metadata": {},
   "source": [
    "As colunas que tiveram valores muito diferentes entre media e mediana foram: Us Gross, Production Budget, IMDB Votes. Us Gross teve um desvio padrão de: 62555311.39066211; Production Budget teve um desvio padrão de: 35585913.44464443; IMDB Votes teve um desvio padrão de: 44937.58233504963."
   ]
  },
  {
   "cell_type": "markdown",
   "metadata": {},
   "source": [
    "Que conclusões podemos tirar desses resultados?"
   ]
  },
  {
   "cell_type": "markdown",
   "metadata": {},
   "source": [
    "Podemos extrair que o custo de produção e os lucros dos filmes variam muito e são bem disperços. Assim como os votos do IMDB variam muito pelos filmes e não tem um centro de votos."
   ]
  }
 ],
 "metadata": {
  "kernelspec": {
   "display_name": "Python 3",
   "language": "python",
   "name": "python3"
  },
  "language_info": {
   "codemirror_mode": {
    "name": "ipython",
    "version": 3
   },
   "file_extension": ".py",
   "mimetype": "text/x-python",
   "name": "python",
   "nbconvert_exporter": "python",
   "pygments_lexer": "ipython3",
   "version": "3.7.4"
  }
 },
 "nbformat": 4,
 "nbformat_minor": 4
}
